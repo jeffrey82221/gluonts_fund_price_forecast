{
 "cells": [
  {
   "cell_type": "code",
   "execution_count": 1,
   "id": "1f8169bd",
   "metadata": {},
   "outputs": [
    {
     "name": "stderr",
     "output_type": "stream",
     "text": [
      "/Volumes/GoogleDrive/我的雲端硬碟/github/gluonts_fund_price_forecast/env/lib/python3.8/site-packages/gluonts/json.py:45: UserWarning: Using `json`-module for json-handling. Consider installing one of `orjson`, `ujson` to speed up serialization and deserialization.\n",
      "  warnings.warn(\n"
     ]
    }
   ],
   "source": [
    "import matplotlib.pyplot as plt\n",
    "import json\n",
    "\n",
    "from gluonts.dataset.repository.datasets import get_dataset\n",
    "from gluonts.evaluation import Evaluator\n",
    "from gluonts.evaluation.backtest import make_evaluation_predictions\n",
    "\n",
    "from pts.model.deepar import DeepAREstimator\n",
    "from pts.modules.distribution_output import ImplicitQuantileOutput\n",
    "from pts import Trainer\n",
    "from pts.dataset.repository.datasets import dataset_recipes\n",
    "\n",
    "import torch\n",
    "device = torch.device(\"cuda\" if torch.cuda.is_available() else \"cpu\")"
   ]
  },
  {
   "cell_type": "code",
   "execution_count": 2,
   "id": "28b5d804",
   "metadata": {},
   "outputs": [],
   "source": [
    "dataset = get_dataset(\"m5\", regenerate=False)"
   ]
  },
  {
   "cell_type": "code",
   "execution_count": 3,
   "id": "c5d1c7dc",
   "metadata": {},
   "outputs": [
    {
     "name": "stdout",
     "output_type": "stream",
     "text": [
      "Recommended prediction horizon: 28\n",
      "Frequency of the time series: D\n"
     ]
    }
   ],
   "source": [
    "print(f\"Recommended prediction horizon: {dataset.metadata.prediction_length}\")\n",
    "print(f\"Frequency of the time series: {dataset.metadata.freq}\")"
   ]
  },
  {
   "cell_type": "code",
   "execution_count": 4,
   "id": "6a79999e",
   "metadata": {},
   "outputs": [
    {
     "data": {
      "text/plain": [
       "56"
      ]
     },
     "execution_count": 4,
     "metadata": {},
     "output_type": "execute_result"
    }
   ],
   "source": [
    "dataset.metadata.prediction_length*2"
   ]
  },
  {
   "cell_type": "code",
   "execution_count": 5,
   "id": "9733ffd2",
   "metadata": {},
   "outputs": [],
   "source": [
    "estimator = DeepAREstimator(\n",
    "    distr_output=ImplicitQuantileOutput(output_domain=\"Positive\"),\n",
    "    cell_type='GRU',\n",
    "    input_size=63,\n",
    "    num_cells=64,\n",
    "    num_layers=3,\n",
    "    dropout_rate=0.2,\n",
    "    use_feat_dynamic_real=True,\n",
    "    use_feat_static_cat=True,\n",
    "    cardinality=[json.loads(cat_feat_info.cardinality) for cat_feat_info in dataset.metadata.feat_static_cat][0],\n",
    "    embedding_dimension = [4, 4, 4, 4, 16],\n",
    "    prediction_length=dataset.metadata.prediction_length,\n",
    "    context_length=dataset.metadata.prediction_length*2,\n",
    "    freq=dataset.metadata.freq,\n",
    "    scaling=True,\n",
    "    trainer=Trainer(device=device,\n",
    "                    epochs=1,\n",
    "                    learning_rate=1e-3,\n",
    "                    num_batches_per_epoch=120,\n",
    "                    batch_size=256,\n",
    "                   )\n",
    ")"
   ]
  },
  {
   "cell_type": "code",
   "execution_count": 6,
   "id": "09647417",
   "metadata": {},
   "outputs": [
    {
     "data": {
      "application/vnd.jupyter.widget-view+json": {
       "model_id": "0268471ceb334aefaa5cc5a1836d9e92",
       "version_major": 2,
       "version_minor": 0
      },
      "text/plain": [
       "  0%|          | 0/119 [00:00<?, ?it/s]"
      ]
     },
     "metadata": {},
     "output_type": "display_data"
    }
   ],
   "source": [
    "import warnings\n",
    "warnings.filterwarnings('ignore')\n",
    "predictor = estimator.train(dataset.train, num_workers=0)"
   ]
  },
  {
   "cell_type": "code",
   "execution_count": 7,
   "id": "371d27ad",
   "metadata": {},
   "outputs": [],
   "source": [
    "forecast_it, ts_it = make_evaluation_predictions(\n",
    "    dataset=dataset.test,  # test dataset\n",
    "    predictor=predictor,  # predictor\n",
    "    num_samples=100,  # number of sample paths we want for evaluation\n",
    ")"
   ]
  },
  {
   "cell_type": "code",
   "execution_count": 8,
   "id": "904878c3",
   "metadata": {},
   "outputs": [],
   "source": [
    "forecasts = list(forecast_it)\n",
    "tss = list(ts_it)"
   ]
  },
  {
   "cell_type": "code",
   "execution_count": 9,
   "id": "4b94e08e",
   "metadata": {},
   "outputs": [
    {
     "name": "stderr",
     "output_type": "stream",
     "text": [
      "Running evaluation: 100%|█████████████████████| 30490/30490 [00:00<00:00, 536047.55it/s]\n",
      "/Volumes/GoogleDrive/我的雲端硬碟/github/gluonts_fund_price_forecast/env/lib/python3.8/site-packages/gluonts/json.py:45: UserWarning: Using `json`-module for json-handling. Consider installing one of `orjson`, `ujson` to speed up serialization and deserialization.\n",
      "  warnings.warn(\n",
      "/Volumes/GoogleDrive/我的雲端硬碟/github/gluonts_fund_price_forecast/env/lib/python3.8/site-packages/gluonts/evaluation/_base.py:305: FutureWarning: Timestamp.freq is deprecated and will be removed in a future version.\n",
      "  date_before_forecast = forecast.index[0] - forecast.index[0].freq\n",
      "/Volumes/GoogleDrive/我的雲端硬碟/github/gluonts_fund_price_forecast/env/lib/python3.8/site-packages/gluonts/json.py:45: UserWarning: Using `json`-module for json-handling. Consider installing one of `orjson`, `ujson` to speed up serialization and deserialization.\n",
      "  warnings.warn(\n",
      "/Volumes/GoogleDrive/我的雲端硬碟/github/gluonts_fund_price_forecast/env/lib/python3.8/site-packages/gluonts/evaluation/_base.py:305: FutureWarning: Timestamp.freq is deprecated and will be removed in a future version.\n",
      "  date_before_forecast = forecast.index[0] - forecast.index[0].freq\n",
      "/Volumes/GoogleDrive/我的雲端硬碟/github/gluonts_fund_price_forecast/env/lib/python3.8/site-packages/gluonts/json.py:45: UserWarning: Using `json`-module for json-handling. Consider installing one of `orjson`, `ujson` to speed up serialization and deserialization.\n",
      "  warnings.warn(\n",
      "/Volumes/GoogleDrive/我的雲端硬碟/github/gluonts_fund_price_forecast/env/lib/python3.8/site-packages/gluonts/evaluation/_base.py:305: FutureWarning: Timestamp.freq is deprecated and will be removed in a future version.\n",
      "  date_before_forecast = forecast.index[0] - forecast.index[0].freq\n",
      "/Volumes/GoogleDrive/我的雲端硬碟/github/gluonts_fund_price_forecast/env/lib/python3.8/site-packages/gluonts/json.py:45: UserWarning: Using `json`-module for json-handling. Consider installing one of `orjson`, `ujson` to speed up serialization and deserialization.\n",
      "  warnings.warn(\n",
      "/Volumes/GoogleDrive/我的雲端硬碟/github/gluonts_fund_price_forecast/env/lib/python3.8/site-packages/gluonts/evaluation/_base.py:305: FutureWarning: Timestamp.freq is deprecated and will be removed in a future version.\n",
      "  date_before_forecast = forecast.index[0] - forecast.index[0].freq\n",
      "/Volumes/GoogleDrive/我的雲端硬碟/github/gluonts_fund_price_forecast/env/lib/python3.8/site-packages/gluonts/json.py:45: UserWarning: Using `json`-module for json-handling. Consider installing one of `orjson`, `ujson` to speed up serialization and deserialization.\n",
      "  warnings.warn(\n",
      "/Volumes/GoogleDrive/我的雲端硬碟/github/gluonts_fund_price_forecast/env/lib/python3.8/site-packages/gluonts/evaluation/_base.py:305: FutureWarning: Timestamp.freq is deprecated and will be removed in a future version.\n",
      "  date_before_forecast = forecast.index[0] - forecast.index[0].freq\n",
      "/Volumes/GoogleDrive/我的雲端硬碟/github/gluonts_fund_price_forecast/env/lib/python3.8/site-packages/gluonts/json.py:45: UserWarning: Using `json`-module for json-handling. Consider installing one of `orjson`, `ujson` to speed up serialization and deserialization.\n",
      "  warnings.warn(\n",
      "/Volumes/GoogleDrive/我的雲端硬碟/github/gluonts_fund_price_forecast/env/lib/python3.8/site-packages/gluonts/evaluation/_base.py:305: FutureWarning: Timestamp.freq is deprecated and will be removed in a future version.\n",
      "  date_before_forecast = forecast.index[0] - forecast.index[0].freq\n",
      "/Volumes/GoogleDrive/我的雲端硬碟/github/gluonts_fund_price_forecast/env/lib/python3.8/site-packages/gluonts/json.py:45: UserWarning: Using `json`-module for json-handling. Consider installing one of `orjson`, `ujson` to speed up serialization and deserialization.\n",
      "  warnings.warn(\n",
      "/Volumes/GoogleDrive/我的雲端硬碟/github/gluonts_fund_price_forecast/env/lib/python3.8/site-packages/gluonts/evaluation/_base.py:305: FutureWarning: Timestamp.freq is deprecated and will be removed in a future version.\n",
      "  date_before_forecast = forecast.index[0] - forecast.index[0].freq\n",
      "/Volumes/GoogleDrive/我的雲端硬碟/github/gluonts_fund_price_forecast/env/lib/python3.8/site-packages/gluonts/json.py:45: UserWarning: Using `json`-module for json-handling. Consider installing one of `orjson`, `ujson` to speed up serialization and deserialization.\n",
      "  warnings.warn(\n",
      "/Volumes/GoogleDrive/我的雲端硬碟/github/gluonts_fund_price_forecast/env/lib/python3.8/site-packages/gluonts/evaluation/_base.py:305: FutureWarning: Timestamp.freq is deprecated and will be removed in a future version.\n",
      "  date_before_forecast = forecast.index[0] - forecast.index[0].freq\n"
     ]
    }
   ],
   "source": [
    "import warnings\n",
    "warnings.filterwarnings('ignore')\n",
    "evaluator = Evaluator()\n",
    "agg_metrics, item_metrics = evaluator(iter(tss), iter(forecasts), num_series=len(dataset.test))"
   ]
  },
  {
   "cell_type": "code",
   "execution_count": 10,
   "id": "17f8b876",
   "metadata": {},
   "outputs": [
    {
     "name": "stdout",
     "output_type": "stream",
     "text": [
      "{\n",
      "    \"MSE\": 5.053855745420831,\n",
      "    \"abs_error\": 882027.4042487043,\n",
      "    \"abs_target_sum\": 1183626.0,\n",
      "    \"abs_target_mean\": 1.386433491074357,\n",
      "    \"seasonal_error\": 0.9207256181588896,\n",
      "    \"MASE\": 1.5145273459021142,\n",
      "    \"MAPE\": 0.8679531216271946,\n",
      "    \"sMAPE\": 1.715873472769783,\n",
      "    \"MSIS\": 23.569875262629225,\n",
      "    \"QuantileLoss[0.1]\": 234154.56754037784,\n",
      "    \"Coverage[0.1]\": 0.5629609239563322,\n",
      "    \"QuantileLoss[0.2]\": 452760.878809207,\n",
      "    \"Coverage[0.2]\": 0.5649873494822658,\n",
      "    \"QuantileLoss[0.3]\": 634048.4818386505,\n",
      "    \"Coverage[0.3]\": 0.5737548610785739,\n",
      "    \"QuantileLoss[0.4]\": 778254.9416045647,\n",
      "    \"Coverage[0.4]\": 0.5895844070655485,\n",
      "    \"QuantileLoss[0.5]\": 882027.405381787,\n",
      "    \"Coverage[0.5]\": 0.6134657733214637,\n",
      "    \"QuantileLoss[0.6]\": 942607.4573670258,\n",
      "    \"Coverage[0.6]\": 0.6453228224710679,\n",
      "    \"QuantileLoss[0.7]\": 945535.003063216,\n",
      "    \"Coverage[0.7]\": 0.6933127957644191,\n",
      "    \"QuantileLoss[0.8]\": 879384.5965573601,\n",
      "    \"Coverage[0.8]\": 0.756252635524528,\n",
      "    \"QuantileLoss[0.9]\": 695020.8765454068,\n",
      "    \"Coverage[0.9]\": 0.8315946680410439,\n",
      "    \"RMSE\": 2.2480782338301375,\n",
      "    \"NRMSE\": 1.6214829260133394,\n",
      "    \"ND\": 0.7451909676271933,\n",
      "    \"wQuantileLoss[0.1]\": 0.19782817168630787,\n",
      "    \"wQuantileLoss[0.2]\": 0.38252022075318304,\n",
      "    \"wQuantileLoss[0.3]\": 0.5356831311906384,\n",
      "    \"wQuantileLoss[0.4]\": 0.6575176124929367,\n",
      "    \"wQuantileLoss[0.5]\": 0.7451909685844912,\n",
      "    \"wQuantileLoss[0.6]\": 0.796372720240199,\n",
      "    \"wQuantileLoss[0.7]\": 0.7988460907949099,\n",
      "    \"wQuantileLoss[0.8]\": 0.7429581612412706,\n",
      "    \"wQuantileLoss[0.9]\": 0.587196358094032,\n",
      "    \"mean_absolute_QuantileLoss\": 715977.1343008439,\n",
      "    \"mean_wQuantileLoss\": 0.604901492786441,\n",
      "    \"MAE_Coverage\": 0.17432400422725125,\n",
      "    \"OWA\": NaN\n",
      "}\n"
     ]
    }
   ],
   "source": [
    "print(json.dumps(agg_metrics, indent=4))"
   ]
  },
  {
   "cell_type": "code",
   "execution_count": 11,
   "id": "a1ca0581",
   "metadata": {},
   "outputs": [
    {
     "data": {
      "image/png": "[encoded data removed]",
      "text/plain": [
       "<Figure size 432x288 with 1 Axes>"
      ]
     },
     "metadata": {
      "needs_background": "light"
     },
     "output_type": "display_data"
    }
   ],
   "source": [
    "item_metrics.plot(x='MSIS', y='MASE', kind='scatter')\n",
    "plt.grid(which=\"both\")\n",
    "plt.show()"
   ]
  }
 ],
 "metadata": {
  "kernelspec": {
   "display_name": "Python 3 (ipykernel)",
   "language": "python",
   "name": "python3"
  },
  "language_info": {
   "codemirror_mode": {
    "name": "ipython",
    "version": 3
   },
   "file_extension": ".py",
   "mimetype": "text/x-python",
   "name": "python",
   "nbconvert_exporter": "python",
   "pygments_lexer": "ipython3",
   "version": "3.8.9"
  }
 },
 "nbformat": 4,
 "nbformat_minor": 5
}
