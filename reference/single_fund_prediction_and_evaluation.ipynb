{
 "cells": [
  {
   "cell_type": "markdown",
   "id": "954c2dfa",
   "metadata": {},
   "source": [
    "# Ref: \n",
    "https://analyticsindiamag.com/gluonts-pytorchts-for-time-series-forecasting/"
   ]
  },
  {
   "cell_type": "code",
   "execution_count": null,
   "id": "8af66dd3",
   "metadata": {},
   "outputs": [
    {
     "ename": "",
     "evalue": "",
     "output_type": "error",
     "traceback": [
      "\u001b[1;31mJupyter cannot be started. Error attempting to locate jupyter: Running cells with 'Python 3.8.9 ('py3': venv)' requires jupyter and notebook package.\n",
      "Run the following command to install 'jupyter and notebook' into the Python environment. \n",
      "Command: '/Volumes/GoogleDrive/我的雲端硬碟/github/py3/bin/python -m pip install jupyter notebook -U'"
     ]
    }
   ],
   "source": [
    "import os\n",
    "import inspect\n",
    "import sys\n",
    "currentdir = os.path.dirname(os.path.abspath(inspect.getfile(inspect.currentframe())))\n",
    "parentdir = os.path.dirname(currentdir)\n",
    "sys.path.insert(0, parentdir)"
   ]
  },
  {
   "cell_type": "markdown",
   "id": "5665dc9d",
   "metadata": {},
   "source": [
    "# Plot "
   ]
  },
  {
   "cell_type": "code",
   "execution_count": null,
   "id": "8279a725",
   "metadata": {},
   "outputs": [],
   "source": [
    "from src.loader.fund_price_loader import NAV_DIR\n",
    "from src.loader.fund_price_loader import load_dataset"
   ]
  },
  {
   "cell_type": "code",
   "execution_count": null,
   "id": "95bf4727",
   "metadata": {},
   "outputs": [],
   "source": [
    "import os\n",
    "from gluonts.dataset.util import to_pandas\n",
    "\n",
    "\n",
    "nav_files = os.listdir(NAV_DIR)\n",
    "file_path = os.path.join(NAV_DIR, nav_files[800])\n",
    "print(f\"file_path: {file_path}\")\n",
    "dataset = load_dataset(file_path)\n",
    "to_pandas(list(dataset)[0]).plot(linewidth=2)"
   ]
  },
  {
   "cell_type": "code",
   "execution_count": null,
   "id": "c4fc5056",
   "metadata": {
    "scrolled": true
   },
   "outputs": [],
   "source": [
    "from gluonts.model import prophet\n",
    "predictor = prophet.ProphetPredictor(\n",
    "    freq=\"D\", prediction_length=100)\n",
    "predictions = predictor.predict(dataset)\n",
    "for entry, forecast in zip(dataset, predictions):\n",
    "    to_pandas(entry).plot(linewidth=2)\n",
    "    forecast.plot(color='g', prediction_intervals=[50.0, 90.0])"
   ]
  },
  {
   "cell_type": "markdown",
   "id": "d89376cb",
   "metadata": {},
   "source": [
    "# Evaluation \n",
    "\n",
    "- split Train and Test Dataset \n",
    "- calculate RMSE"
   ]
  },
  {
   "cell_type": "code",
   "execution_count": null,
   "id": "0d3b9238",
   "metadata": {},
   "outputs": [],
   "source": [
    "import warnings\n",
    "warnings.filterwarnings('ignore')\n",
    "import os\n",
    "from src.loader.fund_price_loader import NAV_DIR\n",
    "from gluonts.dataset.util import to_pandas\n",
    "\n",
    "nav_files = os.listdir(NAV_DIR)\n",
    "file_path = os.path.join(NAV_DIR, nav_files[800])"
   ]
  },
  {
   "cell_type": "code",
   "execution_count": null,
   "id": "e4c7eee5",
   "metadata": {},
   "outputs": [],
   "source": [
    "from src.loader.fund_price_loader import load_split_dataset\n",
    "from datetime import datetime\n",
    "train, test = load_split_dataset(file_path, datetime(year=2021, month=5, day=30))"
   ]
  },
  {
   "cell_type": "code",
   "execution_count": null,
   "id": "3580df33",
   "metadata": {},
   "outputs": [],
   "source": [
    "to_pandas(list(train)[0]).plot(linewidth=2)\n",
    "to_pandas(list(test)[0]).plot(linewidth=2)"
   ]
  },
  {
   "cell_type": "code",
   "execution_count": null,
   "id": "372ec594",
   "metadata": {},
   "outputs": [],
   "source": [
    "from src.evaluator import evaluation\n",
    "from gluonts.model import prophet\n",
    "\n",
    "evaluation(prophet.ProphetPredictor, train, test, verbose=True)"
   ]
  },
  {
   "cell_type": "markdown",
   "id": "59f782e3",
   "metadata": {},
   "source": [
    "# ShareMemory with Billiard (not faster :()"
   ]
  },
  {
   "cell_type": "code",
   "execution_count": null,
   "id": "7a3afceb",
   "metadata": {},
   "outputs": [],
   "source": [
    "!pip install sharedmem"
   ]
  },
  {
   "cell_type": "code",
   "execution_count": null,
   "id": "12c63e87",
   "metadata": {},
   "outputs": [],
   "source": [
    "import os\n",
    "from gluonts.dataset.util import to_pandas\n",
    "from src.loader.fund_price_loader import NAV_DIR\n",
    "from src.loader.fund_price_loader import load_nav_table\n",
    "\n",
    "nav_files = os.listdir(NAV_DIR)\n",
    "file_path = os.path.join(NAV_DIR, nav_files[800])\n",
    "nav_table = load_nav_table(file_path)"
   ]
  },
  {
   "cell_type": "code",
   "execution_count": null,
   "id": "49e482db",
   "metadata": {},
   "outputs": [],
   "source": [
    "import pandas as pd\n",
    "from datetime import datetime\n",
    "class Transfer:\n",
    "    @staticmethod\n",
    "    def to_shm(smm, nav_table):\n",
    "        start_end_date = smm.ShareableList([str(nav_table.index.min()), str(nav_table.index.max())])\n",
    "        values = smm.ShareableList(nav_table.value.tolist())\n",
    "        return start_end_date, values\n",
    "    \n",
    "    @staticmethod\n",
    "    def to_process(start_end_date, values): \n",
    "        __string_to_date = lambda x: datetime.strptime(x.split(' ')[0], '%Y-%m-%d')\n",
    "        start = start_end_date[0]\n",
    "        end = start_end_date[1]\n",
    "        idx = pd.date_range(start=__string_to_date(start),\n",
    "                            end=__string_to_date(end), \n",
    "                            freq=\"D\")\n",
    "        nav_table = pd.DataFrame(idx, columns=['date'])\n",
    "        nav_table['value'] = list(values)\n",
    "        nav_table.set_index('date', inplace=True)\n",
    "        return nav_table"
   ]
  },
  {
   "cell_type": "code",
   "execution_count": null,
   "id": "bcdee14a",
   "metadata": {},
   "outputs": [],
   "source": [
    "from billiard.pool import Pool\n",
    "from multiprocessing.managers import SharedMemoryManager\n",
    "from functools import partial\n",
    "def test_func(x, shared_objs=None):\n",
    "    if shared_objs is None:\n",
    "        return x + 1\n",
    "    else:\n",
    "        nav_table = Transfer.to_process(*shared_objs)\n",
    "        return x + nav_table.iloc[0]\n",
    "\n",
    "with SharedMemoryManager() as smm:\n",
    "    shared_objs = Transfer.to_shm(smm, nav_table)\n",
    "    with Pool(8) as p:\n",
    "        ans_gen = p.imap(\n",
    "            partial(test_func, shared_objs = shared_objs), range(10))\n",
    "        ans = list(ans_gen)"
   ]
  }
 ],
 "metadata": {
  "kernelspec": {
   "display_name": "Python 3 (ipykernel)",
   "language": "python",
   "name": "python3"
  },
  "language_info": {
   "codemirror_mode": {
    "name": "ipython",
    "version": 3
   },
   "file_extension": ".py",
   "mimetype": "text/x-python",
   "name": "python",
   "nbconvert_exporter": "python",
   "pygments_lexer": "ipython3",
   "version": "3.8.9"
  }
 },
 "nbformat": 4,
 "nbformat_minor": 5
}
