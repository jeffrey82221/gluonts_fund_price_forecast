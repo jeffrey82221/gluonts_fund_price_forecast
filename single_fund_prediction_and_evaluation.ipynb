{
 "cells": [
  {
   "cell_type": "markdown",
   "id": "954c2dfa",
   "metadata": {},
   "source": [
    "# Ref: \n",
    "https://analyticsindiamag.com/gluonts-pytorchts-for-time-series-forecasting/"
   ]
  },
  {
   "cell_type": "markdown",
   "id": "e4bf8d08",
   "metadata": {},
   "source": [
    "# Plot "
   ]
  },
  {
   "cell_type": "code",
   "execution_count": null,
   "id": "8279a725",
   "metadata": {},
   "outputs": [],
   "source": [
    "from fund_price_loader import NAV_DIR\n",
    "from fund_price_loader import load_dataset"
   ]
  },
  {
   "cell_type": "code",
   "execution_count": null,
   "id": "95bf4727",
   "metadata": {},
   "outputs": [],
   "source": [
    "import os\n",
    "nav_files = os.listdir(NAV_DIR)\n",
    "file_path = os.path.join(NAV_DIR, nav_files[800])\n",
    "print(f\"file_path: {file_path}\")\n",
    "dataset = load_dataset(file_path)\n",
    "to_pandas(list(dataset)[0]).plot(linewidth=2)"
   ]
  },
  {
   "cell_type": "code",
   "execution_count": null,
   "id": "c4fc5056",
   "metadata": {
    "scrolled": true
   },
   "outputs": [],
   "source": [
    "from gluonts.dataset.util import to_pandas\n",
    "from gluonts.model import prophet\n",
    "predictor = prophet.ProphetPredictor(\n",
    "    freq=\"D\", prediction_length=100)\n",
    "predictions = predictor.predict(dataset)\n",
    "for entry, forecast in zip(dataset, predictions):\n",
    "    to_pandas(entry).plot(linewidth=2)\n",
    "    forecast.plot(color='g', prediction_intervals=[50.0, 90.0])"
   ]
  },
  {
   "cell_type": "markdown",
   "id": "1508e085",
   "metadata": {},
   "source": [
    "# Split Train and Test Dataset "
   ]
  },
  {
   "cell_type": "code",
   "execution_count": 2,
   "id": "606706b3",
   "metadata": {},
   "outputs": [],
   "source": [
    "import os\n",
    "from fund_price_loader import NAV_DIR\n",
    "nav_files = os.listdir(NAV_DIR)\n",
    "file_path = os.path.join(NAV_DIR, nav_files[800])\n"
   ]
  },
  {
   "cell_type": "code",
   "execution_count": 3,
   "id": "db0ce0b9",
   "metadata": {},
   "outputs": [],
   "source": [
    "from fund_price_loader import load_split_dataset\n",
    "from datetime import datetime\n",
    "train, test = load_split_dataset(file_path, datetime(year=2021, month=12, day=31))"
   ]
  },
  {
   "cell_type": "markdown",
   "id": "d3abca77",
   "metadata": {},
   "source": [
    "# Evaluation"
   ]
  },
  {
   "cell_type": "code",
   "execution_count": null,
   "id": "f544d5b7",
   "metadata": {},
   "outputs": [],
   "source": [
    "from gluonts.dataset.repository.datasets import get_dataset, dataset_recipes"
   ]
  },
  {
   "cell_type": "code",
   "execution_count": null,
   "id": "df628ccd",
   "metadata": {},
   "outputs": [],
   "source": [
    "dataset = get_dataset(\"m4_hourly\", regenerate=True)"
   ]
  },
  {
   "cell_type": "code",
   "execution_count": null,
   "id": "bed26e10",
   "metadata": {},
   "outputs": [],
   "source": [
    "dataset.test"
   ]
  },
  {
   "cell_type": "code",
   "execution_count": null,
   "id": "d28a6bff",
   "metadata": {},
   "outputs": [],
   "source": []
  }
 ],
 "metadata": {
  "kernelspec": {
   "display_name": "Python 3 (ipykernel)",
   "language": "python",
   "name": "python3"
  },
  "language_info": {
   "codemirror_mode": {
    "name": "ipython",
    "version": 3
   },
   "file_extension": ".py",
   "mimetype": "text/x-python",
   "name": "python",
   "nbconvert_exporter": "python",
   "pygments_lexer": "ipython3",
   "version": "3.8.9"
  }
 },
 "nbformat": 4,
 "nbformat_minor": 5
}
