{
 "cells": [
  {
   "cell_type": "markdown",
   "id": "954c2dfa",
   "metadata": {},
   "source": [
    "# Ref: \n",
    "https://analyticsindiamag.com/gluonts-pytorchts-for-time-series-forecasting/"
   ]
  },
  {
   "cell_type": "markdown",
   "id": "6a4e9ebe",
   "metadata": {},
   "source": [
    "# Plot "
   ]
  },
  {
   "cell_type": "code",
   "execution_count": null,
   "id": "8279a725",
   "metadata": {},
   "outputs": [],
   "source": [
    "from fund_price_loader import NAV_DIR\n",
    "from fund_price_loader import load_dataset"
   ]
  },
  {
   "cell_type": "code",
   "execution_count": null,
   "id": "95bf4727",
   "metadata": {},
   "outputs": [],
   "source": [
    "import os\n",
    "from gluonts.dataset.util import to_pandas\n",
    "\n",
    "\n",
    "nav_files = os.listdir(NAV_DIR)\n",
    "file_path = os.path.join(NAV_DIR, nav_files[800])\n",
    "print(f\"file_path: {file_path}\")\n",
    "dataset = load_dataset(file_path)\n",
    "to_pandas(list(dataset)[0]).plot(linewidth=2)"
   ]
  },
  {
   "cell_type": "code",
   "execution_count": null,
   "id": "c4fc5056",
   "metadata": {
    "scrolled": true
   },
   "outputs": [],
   "source": [
    "from gluonts.model import prophet\n",
    "predictor = prophet.ProphetPredictor(\n",
    "    freq=\"D\", prediction_length=100)\n",
    "predictions = predictor.predict(dataset)\n",
    "for entry, forecast in zip(dataset, predictions):\n",
    "    to_pandas(entry).plot(linewidth=2)\n",
    "    forecast.plot(color='g', prediction_intervals=[50.0, 90.0])"
   ]
  },
  {
   "cell_type": "markdown",
   "id": "7d6b274e",
   "metadata": {},
   "source": [
    "# Evaluation \n",
    "\n",
    "- split Train and Test Dataset \n",
    "- calculate RMSE"
   ]
  },
  {
   "cell_type": "code",
   "execution_count": 5,
   "id": "b8aa13b9",
   "metadata": {},
   "outputs": [],
   "source": [
    "import warnings\n",
    "warnings.filterwarnings('ignore')\n",
    "import os\n",
    "from fund_price_loader import NAV_DIR\n",
    "from gluonts.dataset.util import to_pandas\n",
    "\n",
    "nav_files = os.listdir(NAV_DIR)\n",
    "file_path = os.path.join(NAV_DIR, nav_files[800])"
   ]
  },
  {
   "cell_type": "code",
   "execution_count": 6,
   "id": "60459978",
   "metadata": {},
   "outputs": [],
   "source": [
    "from fund_price_loader import load_split_dataset\n",
    "from datetime import datetime\n",
    "train, test = load_split_dataset(file_path, datetime(year=2021, month=5, day=30))"
   ]
  },
  {
   "cell_type": "code",
   "execution_count": 7,
   "id": "f060073d",
   "metadata": {},
   "outputs": [
    {
     "data": {
      "text/plain": [
       "<AxesSubplot:>"
      ]
     },
     "execution_count": 7,
     "metadata": {},
     "output_type": "execute_result"
    },
    {
     "data": {
      "image/png": "[encoded data removed]",
      "text/plain": [
       "<Figure size 432x288 with 1 Axes>"
      ]
     },
     "metadata": {
      "needs_background": "light"
     },
     "output_type": "display_data"
    }
   ],
   "source": [
    "to_pandas(list(train)[0]).plot(linewidth=2)\n",
    "to_pandas(list(test)[0]).plot(linewidth=2)"
   ]
  },
  {
   "cell_type": "code",
   "execution_count": 8,
   "id": "b84515f4",
   "metadata": {},
   "outputs": [
    {
     "name": "stderr",
     "output_type": "stream",
     "text": [
      "INFO:fbprophet:Disabling daily seasonality. Run prophet with daily_seasonality=True to override this.\n"
     ]
    },
    {
     "data": {
      "text/plain": [
       "0.44442803405895076"
      ]
     },
     "execution_count": 8,
     "metadata": {},
     "output_type": "execute_result"
    }
   ],
   "source": [
    "from evaluator import evaluation\n",
    "from gluonts.model import prophet\n",
    "\n",
    "evaluation(prophet.ProphetPredictor, train, test, verbose=False)"
   ]
  },
  {
   "cell_type": "code",
   "execution_count": null,
   "id": "658d99fc",
   "metadata": {},
   "outputs": [],
   "source": []
  }
 ],
 "metadata": {
  "kernelspec": {
   "display_name": "Python 3 (ipykernel)",
   "language": "python",
   "name": "python3"
  },
  "language_info": {
   "codemirror_mode": {
    "name": "ipython",
    "version": 3
   },
   "file_extension": ".py",
   "mimetype": "text/x-python",
   "name": "python",
   "nbconvert_exporter": "python",
   "pygments_lexer": "ipython3",
   "version": "3.8.9"
  }
 },
 "nbformat": 4,
 "nbformat_minor": 5
}
