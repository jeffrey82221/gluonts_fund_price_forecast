{
 "cells": [
  {
   "cell_type": "markdown",
   "id": "954c2dfa",
   "metadata": {},
   "source": [
    "# Ref: \n",
    "https://analyticsindiamag.com/gluonts-pytorchts-for-time-series-forecasting/"
   ]
  },
  {
   "cell_type": "markdown",
   "id": "e581ac90",
   "metadata": {},
   "source": [
    "# Plot "
   ]
  },
  {
   "cell_type": "code",
   "execution_count": null,
   "id": "8279a725",
   "metadata": {},
   "outputs": [],
   "source": [
    "from fund_price_loader import NAV_DIR\n",
    "from fund_price_loader import load_dataset"
   ]
  },
  {
   "cell_type": "code",
   "execution_count": null,
   "id": "95bf4727",
   "metadata": {},
   "outputs": [],
   "source": [
    "import os\n",
    "from gluonts.dataset.util import to_pandas\n",
    "\n",
    "\n",
    "nav_files = os.listdir(NAV_DIR)\n",
    "file_path = os.path.join(NAV_DIR, nav_files[800])\n",
    "print(f\"file_path: {file_path}\")\n",
    "dataset = load_dataset(file_path)\n",
    "to_pandas(list(dataset)[0]).plot(linewidth=2)"
   ]
  },
  {
   "cell_type": "code",
   "execution_count": null,
   "id": "c4fc5056",
   "metadata": {
    "scrolled": true
   },
   "outputs": [],
   "source": [
    "from gluonts.model import prophet\n",
    "predictor = prophet.ProphetPredictor(\n",
    "    freq=\"D\", prediction_length=100)\n",
    "predictions = predictor.predict(dataset)\n",
    "for entry, forecast in zip(dataset, predictions):\n",
    "    to_pandas(entry).plot(linewidth=2)\n",
    "    forecast.plot(color='g', prediction_intervals=[50.0, 90.0])"
   ]
  },
  {
   "cell_type": "markdown",
   "id": "59989003",
   "metadata": {},
   "source": [
    "# Evaluation \n",
    "\n",
    "- split Train and Test Dataset \n",
    "- calculate RMSE"
   ]
  },
  {
   "cell_type": "code",
   "execution_count": null,
   "id": "a658660a",
   "metadata": {},
   "outputs": [],
   "source": [
    "import warnings\n",
    "warnings.filterwarnings('ignore')\n",
    "import os\n",
    "from fund_price_loader import NAV_DIR\n",
    "from gluonts.dataset.util import to_pandas\n",
    "\n",
    "nav_files = os.listdir(NAV_DIR)\n",
    "file_path = os.path.join(NAV_DIR, nav_files[800])"
   ]
  },
  {
   "cell_type": "code",
   "execution_count": null,
   "id": "dffa25c5",
   "metadata": {},
   "outputs": [],
   "source": [
    "from fund_price_loader import load_split_dataset\n",
    "from datetime import datetime\n",
    "train, test = load_split_dataset(file_path, datetime(year=2021, month=5, day=30))"
   ]
  },
  {
   "cell_type": "code",
   "execution_count": null,
   "id": "f907b169",
   "metadata": {},
   "outputs": [],
   "source": [
    "to_pandas(list(train)[0]).plot(linewidth=2)\n",
    "to_pandas(list(test)[0]).plot(linewidth=2)"
   ]
  },
  {
   "cell_type": "code",
   "execution_count": null,
   "id": "0b3a4334",
   "metadata": {},
   "outputs": [],
   "source": [
    "from evaluator import evaluation\n",
    "from gluonts.model import prophet\n",
    "\n",
    "evaluation(prophet.ProphetPredictor, train, test, verbose=True)"
   ]
  },
  {
   "cell_type": "markdown",
   "id": "cb892322",
   "metadata": {},
   "source": [
    "# Back Testing Splitting"
   ]
  },
  {
   "cell_type": "code",
   "execution_count": null,
   "id": "6e561d9c",
   "metadata": {},
   "outputs": [],
   "source": [
    "!pip install billiard"
   ]
  },
  {
   "cell_type": "code",
   "execution_count": 26,
   "id": "5d794b23",
   "metadata": {},
   "outputs": [],
   "source": [
    "from datetime import datetime\n",
    "from datetime import timedelta\n",
    "from billiard.pool import Pool\n",
    "from billiard import cpu_count\n",
    "from functools import partial\n",
    "from fund_price_loader import split_nav_dataframe_by_end_dates, load_nav_table, load_dataset\n",
    "\n",
    "def __split_date_generator(start_date, end_date, duration = 7, period = 1):\n",
    "    \"\"\"\n",
    "    A generator generating the dates splitting the nav_table into \n",
    "    multiple training and testing for back-testing. \n",
    "    \n",
    "    Args: \n",
    "        - start_date: start date of the nav_table. \n",
    "        - end_date:   end date of the nav_table. \n",
    "        - duration: (number of days) length of the testing dataset. \n",
    "        - period:   (number of days) back-testing interval.\n",
    "    \n",
    "    Yields: \n",
    "        - split_date: end date of the testing data.\n",
    "        - period_end_date: end date of the training data. \n",
    "        \n",
    "    Note: testing dataset have dates after the training data. \n",
    "    \"\"\"\n",
    "    period_end_date = start_date + timedelta(days=duration+1)\n",
    "    while period_end_date <= end_date:\n",
    "        split_date = period_end_date - timedelta(days=duration)\n",
    "        yield split_date, period_end_date\n",
    "        period_end_date = period_end_date + timedelta(days=period)\n",
    "\n",
    "def __split(x, nav_table=None):\n",
    "    train_end, test_end = x\n",
    "    nav_table = load_nav_table(file_path)\n",
    "    return split_nav_dataframe_by_end_dates(nav_table, train_end, test_end)\n",
    "def __eval(x, predictor=None):\n",
    "    train, test = x\n",
    "    return evaluation(predictor, train, test, verbose=False)\n",
    "\n",
    "def parallel_run(file_path, predictor, duration, period):\n",
    "    start_date = nav_table.index.min()\n",
    "    end_date = nav_table.index.max()\n",
    "    split_date_gen = split_date_generator(start_date, end_date, duration = duration, period = period)\n",
    "    train_ends = list(map(lambda x: x[0], split_date_gen))\n",
    "    with Pool(cpu_count()) as p:\n",
    "        split_date_gen = split_date_generator(start_date, end_date, duration = duration, period = period)\n",
    "        train_test_gen = p.imap(partial(\n",
    "            __split,\n",
    "            nav_table = None\n",
    "        ), split_date_gen)\n",
    "        rmse_gen = p.imap(partial(\n",
    "            __eval,\n",
    "            predictor = predictor\n",
    "        ), train_test_gen)\n",
    "        rmses = list(rmse_gen)\n",
    "    return train_ends, rmses"
   ]
  },
  {
   "cell_type": "code",
   "execution_count": 27,
   "id": "c5e2d5f6",
   "metadata": {
    "scrolled": true
   },
   "outputs": [
    {
     "name": "stderr",
     "output_type": "stream",
     "text": [
      "INFO:fbprophet:Disabling yearly seasonality. Run prophet with yearly_seasonality=True to override this.\n",
      "INFO:fbprophet:Disabling yearly seasonality. Run prophet with yearly_seasonality=True to override this.\n",
      "INFO:fbprophet:Disabling yearly seasonality. Run prophet with yearly_seasonality=True to override this.\n",
      "INFO:fbprophet:Disabling yearly seasonality. Run prophet with yearly_seasonality=True to override this.\n",
      "INFO:fbprophet:Disabling yearly seasonality. Run prophet with yearly_seasonality=True to override this.\n",
      "INFO:fbprophet:Disabling yearly seasonality. Run prophet with yearly_seasonality=True to override this.\n",
      "INFO:fbprophet:Disabling daily seasonality. Run prophet with daily_seasonality=True to override this.\n",
      "INFO:fbprophet:Disabling daily seasonality. Run prophet with daily_seasonality=True to override this.\n",
      "INFO:fbprophet:Disabling yearly seasonality. Run prophet with yearly_seasonality=True to override this.\n",
      "INFO:fbprophet:Disabling daily seasonality. Run prophet with daily_seasonality=True to override this.\n",
      "INFO:fbprophet:Disabling daily seasonality. Run prophet with daily_seasonality=True to override this.\n",
      "INFO:fbprophet:Disabling weekly seasonality. Run prophet with weekly_seasonality=True to override this.\n",
      "INFO:fbprophet:Disabling daily seasonality. Run prophet with daily_seasonality=True to override this.\n",
      "INFO:fbprophet:Disabling daily seasonality. Run prophet with daily_seasonality=True to override this.\n",
      "INFO:fbprophet:Disabling yearly seasonality. Run prophet with yearly_seasonality=True to override this.\n",
      "INFO:fbprophet:Disabling daily seasonality. Run prophet with daily_seasonality=True to override this.\n",
      "INFO:fbprophet:Disabling daily seasonality. Run prophet with daily_seasonality=True to override this.\n",
      "INFO:fbprophet:n_changepoints greater than number of observations. Using 0.\n",
      "INFO:fbprophet:Disabling yearly seasonality. Run prophet with yearly_seasonality=True to override this.\n",
      "INFO:fbprophet:Disabling daily seasonality. Run prophet with daily_seasonality=True to override this.\n",
      "INFO:fbprophet:Disabling yearly seasonality. Run prophet with yearly_seasonality=True to override this.\n",
      "INFO:fbprophet:Disabling daily seasonality. Run prophet with daily_seasonality=True to override this.\n",
      "INFO:fbprophet:Disabling yearly seasonality. Run prophet with yearly_seasonality=True to override this.\n",
      "INFO:fbprophet:Disabling daily seasonality. Run prophet with daily_seasonality=True to override this.\n",
      "INFO:fbprophet:Disabling daily seasonality. Run prophet with daily_seasonality=True to override this.\n",
      "INFO:fbprophet:Disabling daily seasonality. Run prophet with daily_seasonality=True to override this.\n",
      "INFO:fbprophet:Disabling daily seasonality. Run prophet with daily_seasonality=True to override this.\n",
      "INFO:fbprophet:Disabling daily seasonality. Run prophet with daily_seasonality=True to override this.\n",
      "INFO:fbprophet:Disabling daily seasonality. Run prophet with daily_seasonality=True to override this.\n",
      "INFO:fbprophet:Disabling daily seasonality. Run prophet with daily_seasonality=True to override this.\n"
     ]
    }
   ],
   "source": [
    "ans = parallel_run(file_path, prophet.ProphetPredictor, 14, 70)"
   ]
  },
  {
   "cell_type": "code",
   "execution_count": 24,
   "id": "03b7b9d4",
   "metadata": {},
   "outputs": [
    {
     "ename": "NameError",
     "evalue": "name 'ans' is not defined",
     "output_type": "error",
     "traceback": [
      "\u001b[0;31m---------------------------------------------------------------------------\u001b[0m",
      "\u001b[0;31mNameError\u001b[0m                                 Traceback (most recent call last)",
      "Input \u001b[0;32mIn [24]\u001b[0m, in \u001b[0;36m<module>\u001b[0;34m\u001b[0m\n\u001b[1;32m      2\u001b[0m \u001b[38;5;28;01mfrom\u001b[39;00m \u001b[38;5;21;01mgluonts\u001b[39;00m\u001b[38;5;21;01m.\u001b[39;00m\u001b[38;5;21;01mdataset\u001b[39;00m\u001b[38;5;21;01m.\u001b[39;00m\u001b[38;5;21;01mutil\u001b[39;00m \u001b[38;5;28;01mimport\u001b[39;00m to_pandas\n\u001b[1;32m      3\u001b[0m \u001b[38;5;28;01mimport\u001b[39;00m \u001b[38;5;21;01mmatplotlib\u001b[39;00m\u001b[38;5;21;01m.\u001b[39;00m\u001b[38;5;21;01mpylab\u001b[39;00m \u001b[38;5;28;01mas\u001b[39;00m \u001b[38;5;21;01mplt\u001b[39;00m\n\u001b[0;32m----> 4\u001b[0m performance_table \u001b[38;5;241m=\u001b[39m pd\u001b[38;5;241m.\u001b[39mDataFrame(\u001b[43mans\u001b[49m)\u001b[38;5;241m.\u001b[39mT\n\u001b[1;32m      5\u001b[0m performance_table\u001b[38;5;241m.\u001b[39mcolumns \u001b[38;5;241m=\u001b[39m [\u001b[38;5;124m'\u001b[39m\u001b[38;5;124mdate\u001b[39m\u001b[38;5;124m'\u001b[39m, \u001b[38;5;124m'\u001b[39m\u001b[38;5;124mrmse\u001b[39m\u001b[38;5;124m'\u001b[39m]\n\u001b[1;32m      6\u001b[0m performance_table\u001b[38;5;241m.\u001b[39mset_index(\u001b[38;5;124m'\u001b[39m\u001b[38;5;124mdate\u001b[39m\u001b[38;5;124m'\u001b[39m, inplace\u001b[38;5;241m=\u001b[39m\u001b[38;5;28;01mTrue\u001b[39;00m)\n",
      "\u001b[0;31mNameError\u001b[0m: name 'ans' is not defined"
     ]
    }
   ],
   "source": [
    "import pandas as pd\n",
    "from gluonts.dataset.util import to_pandas\n",
    "import matplotlib.pylab as plt\n",
    "performance_table = pd.DataFrame([train_ends, rmses]).T\n",
    "performance_table.columns = ['date', 'rmse']\n",
    "performance_table.set_index('date', inplace=True)\n",
    "dataset = load_dataset(file_path)\n",
    "performance_table.plot()\n",
    "to_pandas(list(dataset)[0]).plot(linewidth=2)\n",
    "plt.show()"
   ]
  },
  {
   "cell_type": "code",
   "execution_count": null,
   "id": "170bfd2c",
   "metadata": {},
   "outputs": [],
   "source": [
    "!pip install sharedmem"
   ]
  },
  {
   "cell_type": "code",
   "execution_count": null,
   "id": "1d80f4e1",
   "metadata": {},
   "outputs": [],
   "source": [
    "nav_table\n",
    "import sharedmem\n",
    "def create_share_mem_array(array):\n",
    "    fp = sharedmem.empty(array.shape, dtype=array.dtype)\n",
    "    fp[:] = array[:]\n",
    "    return fp"
   ]
  },
  {
   "cell_type": "code",
   "execution_count": null,
   "id": "fdafa4de",
   "metadata": {},
   "outputs": [],
   "source": [
    "fp_value = create_share_mem_array(nav_table.value.values)\n",
    "fp_date = create_share_mem_array(nav_table.index)\n",
    "table = pd.DataFrame([fp_date, fp_value]).T"
   ]
  },
  {
   "cell_type": "code",
   "execution_count": null,
   "id": "678d2c04",
   "metadata": {},
   "outputs": [],
   "source": [
    "\n",
    "\n",
    "\n",
    "def train_test_generator(nav_table, split_date_generator):\n",
    "    for split_date, period_end_date in split_date_generator:\n",
    "        \n",
    "        yield train, test\n",
    "        \n",
    "split_date_gen = split_date_generator(file_path, duration=28, period = 28 * 5)\n"
   ]
  },
  {
   "cell_type": "code",
   "execution_count": null,
   "id": "be48c8ec",
   "metadata": {},
   "outputs": [],
   "source": []
  },
  {
   "cell_type": "code",
   "execution_count": null,
   "id": "12da5dd6",
   "metadata": {},
   "outputs": [],
   "source": [
    "rmse_list = []\n",
    "dates = []\n",
    "for train, test, date in split_gen:\n",
    "    print(date)\n",
    "    rmse = evaluation(prophet.ProphetPredictor, train, test, verbose=False)\n",
    "    rmse_list.append(rmse)\n",
    "    dates.append(date)"
   ]
  },
  {
   "cell_type": "code",
   "execution_count": null,
   "id": "ba58d09f",
   "metadata": {},
   "outputs": [],
   "source": []
  }
 ],
 "metadata": {
  "kernelspec": {
   "display_name": "Python 3 (ipykernel)",
   "language": "python",
   "name": "python3"
  },
  "language_info": {
   "codemirror_mode": {
    "name": "ipython",
    "version": 3
   },
   "file_extension": ".py",
   "mimetype": "text/x-python",
   "name": "python",
   "nbconvert_exporter": "python",
   "pygments_lexer": "ipython3",
   "version": "3.8.9"
  }
 },
 "nbformat": 4,
 "nbformat_minor": 5
}
